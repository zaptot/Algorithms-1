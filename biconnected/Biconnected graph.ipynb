{
 "cells": [
  {
   "cell_type": "code",
   "execution_count": 45,
   "metadata": {},
   "outputs": [],
   "source": [
    "from collections import defaultdict \n",
    "   \n",
    "class Graph: \n",
    "   \n",
    "    def __init__(self,vertices): \n",
    "        self.V= vertices\n",
    "        self.graph = defaultdict(list)\n",
    "        self.Time = 0\n",
    "   \n",
    "    def addEdge(self): \n",
    "        print('Введите вершины ребра: ')\n",
    "        u=(int(input()))\n",
    "        v=(int(input()))\n",
    "        self.graph[u].append(v) \n",
    "        self.graph[v].append(u)\n",
    "        \n",
    "    def addEdgeByIndex(self, u, v):\n",
    "        self.graph[u].append(v) \n",
    "        self.graph[v].append(u)\n",
    "        \n",
    "    def removeEdge(self, u, v):\n",
    "        self.graph[u].remove(v)\n",
    "        self.graph[v].remove(u)\n",
    "        \n",
    "    def DFS(self, fromV, toV):\n",
    "        stack = [fromV]\n",
    "        visited = [False] * self.V\n",
    "        \n",
    "        visited[fromV] = True\n",
    "        \n",
    "        while stack:\n",
    "            vertex = stack.pop()\n",
    "            \n",
    "            if vertex == toV:\n",
    "                return True\n",
    "            \n",
    "            for i in self.graph[vertex]:\n",
    "                if not visited[i]:\n",
    "                    stack.append(i)\n",
    "                    visited[i] = True\n",
    "        \n",
    "        return False\n",
    "\n",
    "    \n",
    "    def makeBiconnected(self):\n",
    "        counter = 0\n",
    "        \n",
    "        for parent in range(self.V):\n",
    "            for child in self.graph[parent]:\n",
    "                self.removeEdge(parent, child)\n",
    "                \n",
    "                if self.DFS(parent, child) == False:\n",
    "                    if len(self.graph[child]) == 0:\n",
    "                        vert1 = self.graph[parent][0]\n",
    "                        vert2 = child\n",
    "                    else:\n",
    "                        vert1 = self.graph[child][0]\n",
    "                        vert2 = parent\n",
    "                    \n",
    "                    self.addEdgeByIndex(vert1, vert2)\n",
    "                    self.addEdgeByIndex(parent, child)\n",
    "                    \n",
    "                    parent -= 1\n",
    "                    counter += 1\n",
    "                    break\n",
    "                \n",
    "                self.addEdgeByIndex(parent, child)\n",
    "        \n",
    "        return counter"
   ]
  },
  {
   "cell_type": "code",
   "execution_count": 47,
   "metadata": {},
   "outputs": [
    {
     "name": "stdout",
     "output_type": "stream",
     "text": [
      "Ведите количество вершин: 3\n",
      "Хотите добавить ребра? y/n \n",
      "y\n",
      "Введите вершины ребра: \n",
      "1\n",
      "0\n",
      "Ввести еще ребро? y/n y\n",
      "Введите вершины ребра: \n",
      "2\n",
      "0\n",
      "Ввести еще ребро? y/n \n",
      "Edges to add:  1\n"
     ]
    }
   ],
   "source": [
    "# Задание графов(матрица инцидентности)\n",
    "N = int(input('Ведите количество вершин: '))\n",
    "\n",
    "graph=Graph(N)\n",
    "\n",
    "print(\"Хотите добавить ребра? y/n \")\n",
    "agree=str(input())\n",
    "while(agree==\"y\"):\n",
    "    graph.addEdge()\n",
    "    agree=str(input(\"Ввести еще ребро? y/n \"))\n",
    "\n",
    "print(\"Edges to add: \", graph.makeBiconnected())"
   ]
  },
  {
   "cell_type": "code",
   "execution_count": null,
   "metadata": {},
   "outputs": [],
   "source": []
  }
 ],
 "metadata": {
  "kernelspec": {
   "display_name": "Python 3",
   "language": "python",
   "name": "python3"
  },
  "language_info": {
   "codemirror_mode": {
    "name": "ipython",
    "version": 3
   },
   "file_extension": ".py",
   "mimetype": "text/x-python",
   "name": "python",
   "nbconvert_exporter": "python",
   "pygments_lexer": "ipython3",
   "version": "3.7.0"
  }
 },
 "nbformat": 4,
 "nbformat_minor": 2
}
