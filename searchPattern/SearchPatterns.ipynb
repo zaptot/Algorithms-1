{
 "cells": [
  {
   "cell_type": "code",
   "execution_count": 1,
   "metadata": {},
   "outputs": [],
   "source": [
    "NO_OF_CHARS = 256\n",
    "  \n",
    "def badCharHeuristic(string, size): \n",
    "    badChar = [-1]*NO_OF_CHARS \n",
    "    for i in range(size): \n",
    "        badChar[ord(string[i])] = i; \n",
    "    return badChar \n",
    "  \n",
    "def BoyerMooreAlgorithm(txt, pat): \n",
    "    m = len(pat) \n",
    "    n = len(txt) \n",
    "    badChar = badCharHeuristic(pat, m)  \n",
    "    s = 0\n",
    "    while(s <= n-m): \n",
    "        j = m-1\n",
    "        while j>=0 and pat[j] == txt[s+j]: \n",
    "            j -= 1\n",
    "        if j<0: \n",
    "            print(\"Pattern found at index {}\".format(s)) \n",
    "            s += (m-badChar[ord(txt[s+m])] if s+m<n else 1) \n",
    "        else: \n",
    "            s += max(1, j-badChar[ord(txt[s+j])]) "
   ]
  },
  {
   "cell_type": "code",
   "execution_count": 2,
   "metadata": {},
   "outputs": [],
   "source": [
    "def KMPSearch(pat, txt): \n",
    "    M = len(pat) \n",
    "    N = len(txt) \n",
    "    lps = [0]*M \n",
    "    j = 0\n",
    "    computeLPSArray(pat, M, lps) \n",
    "    i = 0\n",
    "    while i < N: \n",
    "        if pat[j] == txt[i]: \n",
    "            i += 1\n",
    "            j += 1\n",
    "        if j == M: \n",
    "            print (\"Pattern found at index \" + str(i-j))\n",
    "            j = lps[j-1] \n",
    "        elif i < N and pat[j] != txt[i]: \n",
    "            if j != 0: \n",
    "                j = lps[j-1] \n",
    "            else: \n",
    "                i += 1\n",
    "  \n",
    "def computeLPSArray(pat, M, lps): \n",
    "    len = 0\n",
    "  \n",
    "    lps[0]\n",
    "    i = 1\n",
    "    while i < M: \n",
    "        if pat[i]== pat[len]: \n",
    "            len += 1\n",
    "            lps[i] = len\n",
    "            i += 1\n",
    "        else: \n",
    "            if len != 0: \n",
    "                len = lps[len-1] \n",
    "            else: \n",
    "                lps[i] = 0\n",
    "                i += 1"
   ]
  },
  {
   "cell_type": "code",
   "execution_count": 3,
   "metadata": {},
   "outputs": [],
   "source": [
    "def RabinKarpAlgorithm(txt, pat, q): \n",
    "    M = len(pat) \n",
    "    N = len(txt) \n",
    "    i = 0\n",
    "    j = 0\n",
    "    p = 0 \n",
    "    t = 0 \n",
    "    h = 1\n",
    "    for i in range(M-1): \n",
    "        h = (h*NO_OF_CHARS)%q \n",
    "    for i in range(M): \n",
    "        p = (NO_OF_CHARS*p + ord(pat[i]))%q \n",
    "        t = (NO_OF_CHARS*t + ord(txt[i]))%q \n",
    "    for i in range(N-M+1): \n",
    "        if p==t: \n",
    "            for j in range(M): \n",
    "                if txt[i+j] != pat[j]: \n",
    "                    break\n",
    "  \n",
    "            j+=1\n",
    "            if j==M: \n",
    "                print (\"Pattern found at index \" + str(i))\n",
    "        if i < N-M: \n",
    "            t = (NO_OF_CHARS*(t-ord(txt[i])*h) + ord(txt[i+M]))%q \n",
    "            if t < 0: \n",
    "                t = t+q "
   ]
  },
  {
   "cell_type": "code",
   "execution_count": 42,
   "metadata": {},
   "outputs": [],
   "source": [
    "def bruteForceSearch(pattern, text):\n",
    "    for i in range(len(text) - len(pattern)+1):\n",
    "        for j in range(len(pattern)): \n",
    "            if text[i+j] != pattern[j]:\n",
    "                break\n",
    "            j+=1\n",
    "        if j==len(pattern): \n",
    "            print (\"Pattern found at index \" + str(i))"
   ]
  },
  {
   "cell_type": "code",
   "execution_count": 43,
   "metadata": {},
   "outputs": [
    {
     "name": "stdout",
     "output_type": "stream",
     "text": [
      "Pattern found at index 10\n",
      "Pattern found at index 10\n",
      "Pattern found at index 10\n",
      "Pattern found at index 10\n"
     ]
    }
   ],
   "source": [
    "txt = \"ABABDABACDABABCABAB\"\n",
    "pat = \"ABABCABAB\"\n",
    "q = 101 # A prime number \n",
    "\n",
    "BoyerMooreAlgorithm(txt, pat) \n",
    "KMPSearch(pat, txt)\n",
    "RabinKarpAlgorithm(txt,pat,q) \n",
    "bruteForceSearch(pat,txt)"
   ]
  }
 ],
 "metadata": {
  "kernelspec": {
   "display_name": "Python 3",
   "language": "python",
   "name": "python3"
  },
  "language_info": {
   "codemirror_mode": {
    "name": "ipython",
    "version": 3
   },
   "file_extension": ".py",
   "mimetype": "text/x-python",
   "name": "python",
   "nbconvert_exporter": "python",
   "pygments_lexer": "ipython3",
   "version": "3.7.0"
  }
 },
 "nbformat": 4,
 "nbformat_minor": 2
}
