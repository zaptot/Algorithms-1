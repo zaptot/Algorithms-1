{
 "cells": [
  {
   "cell_type": "code",
   "execution_count": 22,
   "metadata": {},
   "outputs": [],
   "source": [
    "def initial(n,m):\n",
    "    dp = [[-1 for _ in range(n)] for _ in range(m)]\n",
    "    dp[0][0] = 1\n",
    "    return dp\n",
    "\n",
    "def solve(i, j, dp, n, m):\n",
    "    if i >= 0 and j >= 0 and i < n and j < m:\n",
    "        if dp[i][j] == -1:     \n",
    "            dp[i][j] = solve(i - 2, j - 1, dp, n, m) + solve(i - 2, j + 1, dp, n, m) + solve(i - 1, j - 2, dp, n, m) + solve(i + 1, j - 2, dp, n, m)\n",
    "    else:\n",
    "        return 0\n",
    "    return dp[i][j]"
   ]
  },
  {
   "cell_type": "code",
   "execution_count": 24,
   "metadata": {},
   "outputs": [
    {
     "name": "stdout",
     "output_type": "stream",
     "text": [
      "Введи n:4\n",
      "Введи m:4\n",
      "2\n"
     ]
    }
   ],
   "source": [
    "n=(int(input('Введи n:')))\n",
    "m=(int(input('Введи m:')))\n",
    "\n",
    "dp=initial(n,m)\n",
    "print(solve(n - 1, m - 1, dp, n, m))"
   ]
  }
 ],
 "metadata": {
  "kernelspec": {
   "display_name": "Python 3",
   "language": "python",
   "name": "python3"
  },
  "language_info": {
   "codemirror_mode": {
    "name": "ipython",
    "version": 3
   },
   "file_extension": ".py",
   "mimetype": "text/x-python",
   "name": "python",
   "nbconvert_exporter": "python",
   "pygments_lexer": "ipython3",
   "version": "3.7.0"
  }
 },
 "nbformat": 4,
 "nbformat_minor": 2
}
