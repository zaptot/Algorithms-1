{
 "cells": [
  {
   "cell_type": "code",
   "execution_count": 10,
   "metadata": {},
   "outputs": [],
   "source": [
    "class Turing_machine:\n",
    "    states=[[0,1,0,1,'+'],\n",
    "           [0,0,0,0,'+'],\n",
    "           [0,'#',1,0,'+'],\n",
    "           [1,'#',2,0,'0']]\n",
    "    \n",
    "    def __init__(self):\n",
    "        self.alpabet = [0,1,'#']\n",
    "        self.tape = list(map(int,input('Введите число в двоичной системе: ')))\n",
    "        self.tape.append('#')\n",
    "        self.tape.append('#')\n",
    "        if not (self.check()):\n",
    "            print('Неверно введены данные')\n",
    "        \n",
    "    def check(self):\n",
    "        for i in range (len(self.tape)):\n",
    "            if not(self.tape[i] == 1 or self.tape[i] == 0 or self.tape[i] == '#'):\n",
    "                return False\n",
    "        return True\n",
    "    \n",
    "    def increaseFourTimes(self):\n",
    "        if(self.check()):\n",
    "            self.state = 0\n",
    "            i=0\n",
    "            while (i<len(self.tape)):\n",
    "                for j in range (0,len(self.states)):\n",
    "                    if self.state == self.states[j][0] and self.tape[i] == self.states[j][1]:\n",
    "                        self.tape[i] = self.states[j][3]\n",
    "                        if self.states[j][4] == '+':\n",
    "                                i = i+1\n",
    "                        self.state = self.states[j][2]\n",
    "                if self.state == 2:\n",
    "                    break\n",
    "            return self.state\n",
    "        \n",
    "    def __str__(self):\n",
    "        return ' '.join(map(str, self.tape))"
   ]
  },
  {
   "cell_type": "code",
   "execution_count": 11,
   "metadata": {},
   "outputs": [
    {
     "name": "stdout",
     "output_type": "stream",
     "text": [
      "Введите число в двоичной системе: 111\n",
      "1 1 1 0 0\n"
     ]
    }
   ],
   "source": [
    "a = Turing_machine()\n",
    "a.increaseFourTimes()\n",
    "print(a)"
   ]
  },
  {
   "cell_type": "code",
   "execution_count": null,
   "metadata": {},
   "outputs": [],
   "source": []
  }
 ],
 "metadata": {
  "kernelspec": {
   "display_name": "Python 3",
   "language": "python",
   "name": "python3"
  },
  "language_info": {
   "codemirror_mode": {
    "name": "ipython",
    "version": 3
   },
   "file_extension": ".py",
   "mimetype": "text/x-python",
   "name": "python",
   "nbconvert_exporter": "python",
   "pygments_lexer": "ipython3",
   "version": "3.7.0"
  }
 },
 "nbformat": 4,
 "nbformat_minor": 2
}
