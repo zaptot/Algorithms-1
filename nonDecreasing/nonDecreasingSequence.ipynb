{
 "cells": [
  {
   "cell_type": "code",
   "execution_count": 99,
   "metadata": {},
   "outputs": [],
   "source": [
    "def subseq(seq):\n",
    "    newSeq = []\n",
    "    newSeq.append(seq[0])\n",
    "    if (N == 1):\n",
    "        return seq\n",
    "    if(N>1):\n",
    "        for i in range (len(seq)):\n",
    "            if (seq[i] >= newSeq[-1]):\n",
    "                newSeq.append(seq[i])\n",
    "    newSeq.pop(0)\n",
    "    return newSeq"
   ]
  },
  {
   "cell_type": "code",
   "execution_count": 100,
   "metadata": {},
   "outputs": [
    {
     "name": "stdout",
     "output_type": "stream",
     "text": [
      "Введите последовательность через пробел: 1 2 3 12 4 5 6 13 13 1 5 13\n",
      "[1, 2, 3, 12, 13, 13, 13]\n"
     ]
    }
   ],
   "source": [
    "seq=list(map(int,input('Введите последовательность через пробел: ').split()))\n",
    "print(subseq(seq))"
   ]
  },
  {
   "cell_type": "code",
   "execution_count": 101,
   "metadata": {},
   "outputs": [],
   "source": [
    "def subsequence(seq):\n",
    "    length = len(seq)\n",
    "    lens = [1] * length\n",
    "    prevs = [None] * length\n",
    "\n",
    "    for i in range(1, length):\n",
    "        greatest = 0\n",
    "        ind = None\n",
    "        for j in range(i):\n",
    "            if greatest < seq[j] <= seq[i]:\n",
    "                greatest = lens[j]\n",
    "                ind = j\n",
    "        if ind is not None:\n",
    "            lens[i] = lens[ind] + 1\n",
    "            prevs[i] = ind\n",
    "\n",
    "    current = lens.index(max(lens))\n",
    "    result = [seq[current]]\n",
    "\n",
    "    while prevs[current] is not None:\n",
    "        prev = prevs[current]\n",
    "        result.insert(0, seq[prev])\n",
    "        current = prev\n",
    "\n",
    "    return result"
   ]
  },
  {
   "cell_type": "code",
   "execution_count": 102,
   "metadata": {},
   "outputs": [
    {
     "name": "stdout",
     "output_type": "stream",
     "text": [
      "Введите последовательность через пробел: 1 2 3 2 1 4\n",
      "[1, 2, 3, 4]\n"
     ]
    }
   ],
   "source": [
    "seq=list(map(int,input('Введите последовательность через пробел: ').split()))\n",
    "print(subsequence(seq))"
   ]
  }
 ],
 "metadata": {
  "kernelspec": {
   "display_name": "Python 3",
   "language": "python",
   "name": "python3"
  },
  "language_info": {
   "codemirror_mode": {
    "name": "ipython",
    "version": 3
   },
   "file_extension": ".py",
   "mimetype": "text/x-python",
   "name": "python",
   "nbconvert_exporter": "python",
   "pygments_lexer": "ipython3",
   "version": "3.7.0"
  }
 },
 "nbformat": 4,
 "nbformat_minor": 2
}
