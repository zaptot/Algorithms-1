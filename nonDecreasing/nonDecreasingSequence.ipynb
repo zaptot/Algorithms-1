{
 "cells": [
  {
   "cell_type": "code",
   "execution_count": 111,
   "metadata": {},
   "outputs": [],
   "source": [
    "def subsequence(seq):\n",
    "    M = [None] * len(seq)\n",
    "    P = [None] * len(seq)\n",
    "    result = []\n",
    "    L = 1\n",
    "    M[0] = 0\n",
    "    for i in range(1, len(seq)):\n",
    "        lower = 0\n",
    "        upper = L\n",
    "        if seq[M[upper-1]] < seq[i]:\n",
    "            j = upper\n",
    "        else:\n",
    "            while upper - lower > 1:\n",
    "                mid = (upper + lower) // 2\n",
    "                if seq[M[mid-1]] < seq[i]:\n",
    "                    lower = mid\n",
    "                else:\n",
    "                    upper = mid\n",
    "            j = lower\n",
    "        P[i] = M[j-1]\n",
    "        if j == L or seq[i] < seq[M[j]]:\n",
    "            M[j] = i\n",
    "            L = max(L, j+1)\n",
    "    pos = M[L-1]\n",
    "    for _ in range(L):\n",
    "        result.append(seq[pos])\n",
    "        pos = P[pos]\n",
    "\n",
    "    return result[::-1] "
   ]
  },
  {
   "cell_type": "code",
   "execution_count": 112,
   "metadata": {},
   "outputs": [
    {
     "name": "stdout",
     "output_type": "stream",
     "text": [
      "Count of elements in sequence:4\n",
      "Element of sequence:1\n",
      "Element of sequence:2\n",
      "Element of sequence:2\n",
      "Element of sequence:3\n"
     ]
    },
    {
     "data": {
      "text/plain": [
       "[1, 2, 3]"
      ]
     },
     "execution_count": 112,
     "metadata": {},
     "output_type": "execute_result"
    }
   ],
   "source": [
    "N = (int(input('Count of elements in sequence:')))\n",
    "seq=[0 for _ in range(N)]\n",
    "for i in range (N):\n",
    "    x = int(input('Element of sequence:'))\n",
    "    seq[i]=x\n",
    "subsequence(seq)"
   ]
  },
  {
   "cell_type": "code",
   "execution_count": null,
   "metadata": {},
   "outputs": [],
   "source": []
  }
 ],
 "metadata": {
  "kernelspec": {
   "display_name": "Python 3",
   "language": "python",
   "name": "python3"
  },
  "language_info": {
   "codemirror_mode": {
    "name": "ipython",
    "version": 3
   },
   "file_extension": ".py",
   "mimetype": "text/x-python",
   "name": "python",
   "nbconvert_exporter": "python",
   "pygments_lexer": "ipython3",
   "version": "3.7.0"
  }
 },
 "nbformat": 4,
 "nbformat_minor": 2
}
