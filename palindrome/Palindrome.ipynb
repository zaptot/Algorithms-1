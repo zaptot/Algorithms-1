{
 "cells": [
  {
   "cell_type": "code",
   "execution_count": 45,
   "metadata": {},
   "outputs": [],
   "source": [
    "def createLength(string):\n",
    "    length=[[0 for _ in range(len(string))] for _ in range(len(string))]\n",
    "    for i in range (len(string)):\n",
    "        for j in range (len(string)):\n",
    "            if i == j:\n",
    "                length[i][j]=1\n",
    "            else:\n",
    "                if i<j:\n",
    "                    length[i][j]=-1\n",
    "                else:\n",
    "                    length[i][j]=0\n",
    "    return length\n",
    "\n",
    "def findLength(left, right, string):\n",
    "    length = createLength(string)\n",
    "    if length[left][right] == -1:\n",
    "        if string[left] == string[right]:\n",
    "            length[left][right] = findLength(left + 1, right - 1, string) + 2\n",
    "        else :\n",
    "            length[left][right] = max(findLength(left + 1, right, string), findLength(left, right - 1, string))  \n",
    "    return length[left][right]"
   ]
  },
  {
   "cell_type": "code",
   "execution_count": 46,
   "metadata": {},
   "outputs": [
    {
     "name": "stdout",
     "output_type": "stream",
     "text": [
      "Your string:abbsba\n"
     ]
    },
    {
     "data": {
      "text/plain": [
       "5"
      ]
     },
     "execution_count": 46,
     "metadata": {},
     "output_type": "execute_result"
    }
   ],
   "source": [
    "string = (str(input('Your string:')))\n",
    "length = len(string)-1\n",
    "findLength(0,length, string)"
   ]
  }
 ],
 "metadata": {
  "kernelspec": {
   "display_name": "Python 3",
   "language": "python",
   "name": "python3"
  },
  "language_info": {
   "codemirror_mode": {
    "name": "ipython",
    "version": 3
   },
   "file_extension": ".py",
   "mimetype": "text/x-python",
   "name": "python",
   "nbconvert_exporter": "python",
   "pygments_lexer": "ipython3",
   "version": "3.7.0"
  }
 },
 "nbformat": 4,
 "nbformat_minor": 2
}
