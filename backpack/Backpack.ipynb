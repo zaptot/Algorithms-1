{
 "cells": [
  {
   "cell_type": "code",
   "execution_count": 136,
   "metadata": {},
   "outputs": [],
   "source": [
    "def find_solution(positions, costs, maxWeight):\n",
    "    solution = [0, costs[0]]\n",
    "    solution_positions = [[], [positions[0]]]\n",
    "    for i in range(1, len(positions)):\n",
    "        max_nearest = get_nearest_pos(positions, i, maxWeight)\n",
    "        new_cost = costs[i] + solution[max_nearest + 1]\n",
    "        if new_cost > solution[i]:\n",
    "            solution.append(new_cost)\n",
    "            prev_positions = solution_positions[max_nearest + 1]\n",
    "            prev_positions.append(positions[i])\n",
    "            solution_positions.append(prev_positions)\n",
    "        else:\n",
    "            solution.append(solution[i])\n",
    "            solution_positions.append(solution_positions[-1])\n",
    "#         print(solution, solution_positions)\n",
    "    return { 'cost': solution[-1], 'positions': solution_positions[-1]}\n",
    "\n",
    "def get_nearest_pos(positions, pos, maxWeight):\n",
    "    current = positions[pos]\n",
    "    while current - positions[pos] <= maxWeight and pos > 0:\n",
    "        pos = pos - 1\n",
    "    if current - positions[pos] > maxWeight:\n",
    "        return pos\n",
    "    return -1"
   ]
  },
  {
   "cell_type": "code",
   "execution_count": 137,
   "metadata": {},
   "outputs": [
    {
     "name": "stdout",
     "output_type": "stream",
     "text": [
      "[0, 5, 11] [[], [3, 10], [3, 10]]\n",
      "[0, 5, 11, 11] [[], [3, 10], [3, 10], [3, 10]]\n",
      "[0, 5, 11, 11, 11] [[], [3, 10], [3, 10], [3, 10], [3, 10]]\n",
      "{'cost': 11, 'positions': [3, 10]}\n"
     ]
    },
    {
     "data": {
      "text/plain": [
       "52"
      ]
     },
     "execution_count": 137,
     "metadata": {},
     "output_type": "execute_result"
    }
   ],
   "source": [
    "import json\n",
    "\n",
    "data = json.load(open('./data.json'))\n",
    "solution = find_solution(data['weights'], data['costs'], 5)\n",
    "print(solution)\n",
    "f = open('./result.json', 'w')\n",
    "f.write(json.dumps(solution, sort_keys=True, indent=2))"
   ]
  },
  {
   "cell_type": "code",
   "execution_count": 141,
   "metadata": {},
   "outputs": [],
   "source": [
    "def find_solution(costs):\n",
    "    max_cost = [costs[0], costs[1]]\n",
    "    max_pos = [[0], [1]]\n",
    "    for i in range(2, len(costs)):\n",
    "        new_max = costs[i] + max_cost[i - 2]\n",
    "        prev_max = max_cost[i - 1]\n",
    "        if new_max > prev_max:\n",
    "            max_cost.append(new_max)\n",
    "            new_max_pos = max_pos[i - 2][:]\n",
    "            new_max_pos.append(i)\n",
    "            max_pos.append(new_max_pos)\n",
    "        else:\n",
    "            max_cost.append(prev_max)\n",
    "            max_pos.append(max_pos[i - 1][:])\n",
    "    return {'cost': max_cost[-1], 'positions': max_pos[-1]}"
   ]
  },
  {
   "cell_type": "code",
   "execution_count": 142,
   "metadata": {},
   "outputs": [
    {
     "name": "stdout",
     "output_type": "stream",
     "text": [
      "{'cost': 17, 'positions': [0, 2, 5]}\n"
     ]
    },
    {
     "data": {
      "text/plain": [
       "58"
      ]
     },
     "execution_count": 142,
     "metadata": {},
     "output_type": "execute_result"
    }
   ],
   "source": [
    "data = json.load(open('./data.json'))\n",
    "solution = find_solution(data['costs'])\n",
    "print(solution)\n",
    "f = open('./result.json', 'w')\n",
    "f.write(json.dumps(solution, sort_keys=True, indent=2))"
   ]
  }
 ],
 "metadata": {
  "kernelspec": {
   "display_name": "Python 3",
   "language": "python",
   "name": "python3"
  },
  "language_info": {
   "codemirror_mode": {
    "name": "ipython",
    "version": 3
   },
   "file_extension": ".py",
   "mimetype": "text/x-python",
   "name": "python",
   "nbconvert_exporter": "python",
   "pygments_lexer": "ipython3",
   "version": "3.7.0"
  }
 },
 "nbformat": 4,
 "nbformat_minor": 2
}
