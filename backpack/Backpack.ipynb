{
 "cells": [
  {
   "cell_type": "code",
   "execution_count": 8,
   "metadata": {},
   "outputs": [],
   "source": [
    "def find_solution(costs):\n",
    "    max_cost = [costs[0], costs[1]]\n",
    "    max_pos = [[0], [1]]\n",
    "    for i in range(2, len(costs)):\n",
    "        new_max = costs[i] + max_cost[i - 2]\n",
    "        prev_max = max_cost[i - 1]\n",
    "        if new_max > prev_max:\n",
    "            max_cost.append(new_max)\n",
    "            new_max_pos = max_pos[i - 2][:]\n",
    "            new_max_pos.append(i)\n",
    "            max_pos.append(new_max_pos)\n",
    "        else:\n",
    "            max_cost.append(prev_max)\n",
    "            max_pos.append(max_pos[i - 1][:])\n",
    "    return {'cost': max_cost[-1], 'positions': max_pos[-1]}"
   ]
  },
  {
   "cell_type": "code",
   "execution_count": 9,
   "metadata": {},
   "outputs": [
    {
     "name": "stdout",
     "output_type": "stream",
     "text": [
      "{'cost': 20, 'positions': [0, 2, 4, 6]}\n"
     ]
    },
    {
     "data": {
      "text/plain": [
       "65"
      ]
     },
     "execution_count": 9,
     "metadata": {},
     "output_type": "execute_result"
    }
   ],
   "source": [
    "import json\n",
    "\n",
    "data = json.load(open('./data.json'))\n",
    "solution = find_solution(data['costs'])\n",
    "print(solution)\n",
    "f = open('./result.json', 'w')\n",
    "f.write(json.dumps(solution, sort_keys=True, indent=2))"
   ]
  },
  {
   "cell_type": "code",
   "execution_count": null,
   "metadata": {},
   "outputs": [],
   "source": []
  }
 ],
 "metadata": {
  "kernelspec": {
   "display_name": "Python 3",
   "language": "python",
   "name": "python3"
  },
  "language_info": {
   "codemirror_mode": {
    "name": "ipython",
    "version": 3
   },
   "file_extension": ".py",
   "mimetype": "text/x-python",
   "name": "python",
   "nbconvert_exporter": "python",
   "pygments_lexer": "ipython3",
   "version": "3.7.0"
  }
 },
 "nbformat": 4,
 "nbformat_minor": 2
}
