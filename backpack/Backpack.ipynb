{
 "cells": [
  {
   "cell_type": "code",
   "execution_count": 1,
   "metadata": {},
   "outputs": [],
   "source": [
    "def find_solution(positions, costs, min_len):\n",
    "    solution = [0, costs[0]]\n",
    "    solution_positions = [[], [positions[0]]]\n",
    "    for i in range(1, len(positions)):\n",
    "        max_nearest = get_nearest_pos(positions, i, min_len)\n",
    "        new_cost = costs[i] + solution[max_nearest + 1]\n",
    "        print(max_nearest)\n",
    "        if new_cost > solution[i]:\n",
    "            solution.append(new_cost)\n",
    "            prev_positions = solution_positions[max_nearest + 1]\n",
    "            prev_positions.append(positions[i])\n",
    "            solution_positions.append(prev_positions)\n",
    "        else:\n",
    "            solution.append(solution[i])\n",
    "            solution_positions.append(solution_positions[-1])\n",
    "        print(solution, solution_positions)\n",
    "    return { 'cost': solution[-1], 'positions': solution_positions[-1]}\n",
    "\n",
    "def get_nearest_pos(positions, pos, min_len):\n",
    "    current = positions[pos]\n",
    "    while current - positions[pos] <= min_len and pos > 0:\n",
    "        pos = pos - 1\n",
    "    if current - positions[pos] > min_len:\n",
    "        return pos\n",
    "    return -1"
   ]
  },
  {
   "cell_type": "code",
   "execution_count": 6,
   "metadata": {},
   "outputs": [
    {
     "name": "stdout",
     "output_type": "stream",
     "text": [
      "0\n",
      "[0, 5, 11] [[], [3, 10], [3, 10]]\n",
      "0\n",
      "[0, 5, 11, 11] [[], [3, 10], [3, 10], [3, 10]]\n",
      "0\n",
      "[0, 5, 11, 11, 11] [[], [3, 10], [3, 10], [3, 10], [3, 10]]\n",
      "{'cost': 11, 'positions': [3, 10]}\n"
     ]
    },
    {
     "data": {
      "text/plain": [
       "52"
      ]
     },
     "execution_count": 6,
     "metadata": {},
     "output_type": "execute_result"
    }
   ],
   "source": [
    "import json\n",
    "\n",
    "data = json.load(open('./data.json'))\n",
    "solution = find_solution(data['positions'], data['costs'], 5)\n",
    "print(solution)\n",
    "f = open('./result.json', 'w')\n",
    "f.write(json.dumps(solution, sort_keys=True, indent=2))"
   ]
  },
  {
   "cell_type": "code",
   "execution_count": null,
   "metadata": {},
   "outputs": [],
   "source": []
  }
 ],
 "metadata": {
  "kernelspec": {
   "display_name": "Python 3",
   "language": "python",
   "name": "python3"
  },
  "language_info": {
   "codemirror_mode": {
    "name": "ipython",
    "version": 3
   },
   "file_extension": ".py",
   "mimetype": "text/x-python",
   "name": "python",
   "nbconvert_exporter": "python",
   "pygments_lexer": "ipython3",
   "version": "3.7.0"
  }
 },
 "nbformat": 4,
 "nbformat_minor": 2
}
