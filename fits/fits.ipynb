{
 "cells": [
  {
   "cell_type": "code",
   "execution_count": 22,
   "metadata": {},
   "outputs": [],
   "source": [
    "def next_fit(items):\n",
    "    print('\\n','Next Fit')\n",
    "    containers = [[]]\n",
    "    for i in items:\n",
    "        if i > 1: continue\n",
    "        if sum(containers[-1]) + i <= 1:\n",
    "            containers[-1].append(i)\n",
    "        else:\n",
    "            containers.append([i])\n",
    "    print ('Всего контейнеров:',len(containers))\n",
    "    print (containers)\n",
    "    return len(containers)"
   ]
  },
  {
   "cell_type": "code",
   "execution_count": 23,
   "metadata": {},
   "outputs": [],
   "source": [
    "def first_fit(items):\n",
    "    print('\\n','First Fit')\n",
    "    containers = [[]]\n",
    "    for i in items:\n",
    "        if i > 1: continue\n",
    "        for c in containers:\n",
    "            if sum(c) + i <= 1:\n",
    "                c.append(i)\n",
    "                break\n",
    "        else:\n",
    "            containers.append([i])\n",
    "    print ('Всего контейнеров:',len(containers))\n",
    "    print (containers)\n",
    "    return len(containers)"
   ]
  },
  {
   "cell_type": "code",
   "execution_count": 24,
   "metadata": {},
   "outputs": [],
   "source": [
    "def first_fit_sorting(items):\n",
    "    print('\\n','First Fit with sort')\n",
    "    containers = [[]]\n",
    "    items = sorted(items, reverse=True)\n",
    "    for i in items:\n",
    "        if i > 1: continue\n",
    "        for c in containers:\n",
    "            if sum(c) + i <= 1:\n",
    "                c.append(i)\n",
    "                break\n",
    "        else:\n",
    "            containers.append([i])\n",
    "    print ('Всего контейнеров:',len(containers))\n",
    "    print (containers)\n",
    "    return len(containers)"
   ]
  },
  {
   "cell_type": "code",
   "execution_count": 25,
   "metadata": {},
   "outputs": [],
   "source": [
    "import time\n",
    "def union(things):\n",
    "    NF_start_time = time.time()\n",
    "    NF = next_fit(things)\n",
    "    NF_final_time = (time.time() - NF_start_time)\n",
    "    FF_start_time = time.time()\n",
    "    FF = first_fit(things)\n",
    "    FF_final_time = (time.time() - FF_start_time)\n",
    "    FFS_start_time = time.time()\n",
    "    FFS = first_fit_sorting(things)\n",
    "    FFS_final_time = (time.time() - FFS_start_time)\n",
    "    \n",
    "    containers = [NF, FF, FFS]\n",
    "    for i in range (len(containers)):\n",
    "        if (min(containers) == containers[i]):\n",
    "            if(i==0):\n",
    "                print('Минимальный по контейнерам: Next Fit')\n",
    "            elif (i==1):\n",
    "                print('Минимальный по контейнерам: First Fit')\n",
    "            elif(i==2):\n",
    "                print('Минимальный по контейнерам: First Fit with sort')\n",
    "        elif (max(containers) == containers[i]):\n",
    "            if(i==0):\n",
    "                print('Максимальный по контейнерам: Next Fit')\n",
    "            elif (i==1):\n",
    "                print('Максимальный по контейнерам: First Fit')\n",
    "            elif(i==2):\n",
    "                print('Максимальный по контейнерам: First Fit with sort')\n",
    "    \n",
    "    times = [NF_final_time, FF_final_time, FFS_final_time]\n",
    "    for i in range (len(times)):\n",
    "        if (min(times) == times[i]):\n",
    "            if(i==0):\n",
    "                print('Самый быстрый: Next Fit')\n",
    "            elif (i==1):\n",
    "                print('Самый быстрый: First Fit')\n",
    "            elif(i==2):\n",
    "                print('Самый быстрый: First Fit with sort')\n",
    "        elif (max(times) == times[i]):\n",
    "            if(i==0):\n",
    "                print('Самый медленный: Next Fit')\n",
    "            elif (i==1):\n",
    "                print('Самый медленный: First Fit')\n",
    "            elif(i==2):\n",
    "                print('Самый медленный: First Fit with sort')"
   ]
  },
  {
   "cell_type": "code",
   "execution_count": 28,
   "metadata": {},
   "outputs": [
    {
     "name": "stdout",
     "output_type": "stream",
     "text": [
      "Введите количество чисел: 25\n",
      "\n",
      " Next Fit\n",
      "Всего контейнеров: 17\n",
      "[[0.16007830232149434, 0.4385939763175023], [0.9819736247820724], [0.4153263446129457, 0.09598981899162662, 0.43964389209316246], [0.08745706763177452, 0.42729105468327877], [0.5639062802208731], [0.531026085904056], [0.7883154789134842], [0.6756585608156812], [0.8377957409537322], [0.996162704306342], [0.5825658802225313, 0.3325758422436832], [0.09428863505484086], [0.9723283933468927], [0.04366873179781916, 0.5140294998053339, 0.30903552592310557], [0.24359659698774805, 0.6825328678885582], [0.7456374513908255], [0.8895565441640794]]\n",
      "\n",
      " First Fit\n",
      "Всего контейнеров: 15\n",
      "[[0.16007830232149434, 0.4385939763175023, 0.09598981899162662, 0.08745706763177452, 0.09428863505484086, 0.04366873179781916], [0.9819736247820724], [0.4153263446129457, 0.43964389209316246], [0.42729105468327877, 0.5639062802208731], [0.531026085904056, 0.3325758422436832], [0.7883154789134842], [0.6756585608156812, 0.30903552592310557], [0.8377957409537322], [0.996162704306342], [0.5825658802225313, 0.24359659698774805], [0.9723283933468927], [0.5140294998053339], [0.6825328678885582], [0.7456374513908255], [0.8895565441640794]]\n",
      "\n",
      " First Fit with sort\n",
      "Всего контейнеров: 14\n",
      "[[0.996162704306342], [0.9819736247820724], [0.9723283933468927], [0.8895565441640794, 0.09598981899162662], [0.8377957409537322, 0.16007830232149434], [0.7883154789134842, 0.09428863505484086, 0.08745706763177452], [0.7456374513908255, 0.24359659698774805], [0.6825328678885582, 0.30903552592310557], [0.6756585608156812, 0.04366873179781916], [0.5825658802225313, 0.4153263446129457], [0.5639062802208731, 0.42729105468327877], [0.531026085904056, 0.43964389209316246], [0.5140294998053339, 0.4385939763175023], [0.3325758422436832]]\n",
      "Максимальный по контейнерам: Next Fit\n",
      "Минимальный по контейнерам: First Fit with sort\n",
      "Самый медленный: Next Fit\n",
      "Самый быстрый: First Fit\n"
     ]
    }
   ],
   "source": [
    "import random\n",
    "count = int(input('Введите количество чисел: '))\n",
    "things = []\n",
    "for i in range (count):\n",
    "    things.append(random.random())\n",
    "# things = list(map(float,input('Введите веса через пробел: ').split()))\n",
    "union(things)\n",
    "# next_fit(things)\n",
    "# first_fit(things)\n",
    "# first_fit_sorting(things)"
   ]
  }
 ],
 "metadata": {
  "kernelspec": {
   "display_name": "Python 3",
   "language": "python",
   "name": "python3"
  },
  "language_info": {
   "codemirror_mode": {
    "name": "ipython",
    "version": 3
   },
   "file_extension": ".py",
   "mimetype": "text/x-python",
   "name": "python",
   "nbconvert_exporter": "python",
   "pygments_lexer": "ipython3",
   "version": "3.7.0"
  }
 },
 "nbformat": 4,
 "nbformat_minor": 2
}
