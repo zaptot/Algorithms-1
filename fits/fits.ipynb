{
 "cells": [
  {
   "cell_type": "code",
   "execution_count": 139,
   "metadata": {},
   "outputs": [],
   "source": [
    "def next_fit(items):\n",
    "    print('\\n','Next Fit')\n",
    "    containers = [[]]\n",
    "    for i in items:\n",
    "        if i > 1: continue\n",
    "        if sum(containers[-1]) + i <= 1:\n",
    "            containers[-1].append(i)\n",
    "        else:\n",
    "            containers.append([i])\n",
    "    print ('Всего контейнеров:',len(containers))\n",
    "    print (containers)"
   ]
  },
  {
   "cell_type": "code",
   "execution_count": 140,
   "metadata": {},
   "outputs": [],
   "source": [
    "def first_fit(items):\n",
    "    print('\\n','First Fit')\n",
    "    containers = [[]]\n",
    "    for i in items:\n",
    "        if i > 1: continue\n",
    "        for c in containers:\n",
    "            if sum(c) + i <= 1:\n",
    "                c.append(i)\n",
    "                break\n",
    "        else:\n",
    "            containers.append([i])\n",
    "    print ('Всего контейнеров:',len(containers))\n",
    "    print (containers)"
   ]
  },
  {
   "cell_type": "code",
   "execution_count": 141,
   "metadata": {},
   "outputs": [],
   "source": [
    "def first_fit_sorting(items):\n",
    "    print('\\n','First Fit with sort')\n",
    "    containers = [[]]\n",
    "    items = sorted(items, reverse=True)\n",
    "    for i in items:\n",
    "        if i > 1: continue\n",
    "        for c in containers:\n",
    "            if sum(c) + i <= 1:\n",
    "                c.append(i)\n",
    "                break\n",
    "        else:\n",
    "            containers.append([i])\n",
    "    print ('Всего контейнеров:',len(containers))\n",
    "    print (containers)"
   ]
  },
  {
   "cell_type": "code",
   "execution_count": 142,
   "metadata": {},
   "outputs": [
    {
     "name": "stdout",
     "output_type": "stream",
     "text": [
      "Введите веса через пробел: 0.4 0.3 0.1 0.5 0.7 0.6 0.1\n",
      "\n",
      " Next Fit\n",
      "Всего контейнеров: 4\n",
      "[[0.4, 0.3, 0.1], [0.5], [0.7], [0.6, 0.1]]\n",
      "\n",
      " First Fit\n",
      "Всего контейнеров: 4\n",
      "[[0.4, 0.3, 0.1, 0.1], [0.5], [0.7], [0.6]]\n",
      "\n",
      " First Fit with sort\n",
      "Всего контейнеров: 3\n",
      "[[0.7, 0.3], [0.6, 0.4], [0.5, 0.1, 0.1]]\n"
     ]
    }
   ],
   "source": [
    "things = list(map(float,input('Введите веса через пробел: ').split()))\n",
    "next_fit(things)\n",
    "first_fit(things)\n",
    "first_fit_sorting(things)"
   ]
  }
 ],
 "metadata": {
  "kernelspec": {
   "display_name": "Python 3",
   "language": "python",
   "name": "python3"
  },
  "language_info": {
   "codemirror_mode": {
    "name": "ipython",
    "version": 3
   },
   "file_extension": ".py",
   "mimetype": "text/x-python",
   "name": "python",
   "nbconvert_exporter": "python",
   "pygments_lexer": "ipython3",
   "version": "3.7.0"
  }
 },
 "nbformat": 4,
 "nbformat_minor": 2
}
