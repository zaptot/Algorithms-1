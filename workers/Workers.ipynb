{
 "cells": [
  {
   "cell_type": "code",
   "execution_count": 121,
   "metadata": {},
   "outputs": [],
   "source": [
    "refuse = 0\n",
    "suggest = 1\n",
    "accept = 2\n",
    "\n",
    "def work(men, job):\n",
    "    worked = [[refuse for _ in job] for _ in men]\n",
    "    pairs = []\n",
    "    pairsNumber = len(men);\n",
    "    unapairedManIndex = getUnworkedMan(worked)\n",
    "    while unapairedManIndex is not None:\n",
    "        prefJobIndex = men[unapairedManIndex].pop(0)\n",
    "\n",
    "        while unapairedManIndex not in job[prefJobIndex]:\n",
    "            prefJobIndex = men[unapairedManIndex].pop(0)\n",
    "\n",
    "        manIndex = job[prefJobIndex].index(unapairedManIndex)\n",
    "        worked = deletePrevSuggestion(worked, prefJobIndex)\n",
    "        \n",
    "        if manIndex is 0:\n",
    "            worked[unapairedManIndex][prefJobIndex] = accept\n",
    "            pairs.append((unapairedManIndex, prefJobIndex))\n",
    "            men = removeJobFromMen(men, prefJobIndex)\n",
    "        else:\n",
    "            worked[unapairedManIndex][prefJobIndex] = suggest\n",
    "\n",
    "        job[prefJobIndex] = job[prefJobIndex][:manIndex]\n",
    "        unapairedManIndex = getUnworkedMan(worked)\n",
    "    return pairs\n",
    "\n",
    "def getUnworkedMan(worked):\n",
    "    unworked = None\n",
    "    for manIndex in range(len(worked)):\n",
    "        if suggest not in worked[manIndex] and accept not in worked[manIndex]:\n",
    "            return manIndex\n",
    "        if accept not in worked[manIndex] and unworked is None:\n",
    "            unworked = manIndex\n",
    "    return unworked\n",
    "\n",
    "def removeJobFromMen(men, job):\n",
    "    for man in men:\n",
    "        try:\n",
    "            man.remove(job)\n",
    "        except ValueError:\n",
    "            pass\n",
    "    return men\n",
    "\n",
    "def deletePrevSuggestion(worked, job):\n",
    "    for man in worked:\n",
    "        if man[job] is accept or man[job] is suggest:\n",
    "            worked[worked.index(man)][job] = refuse\n",
    "            return worked\n",
    "    return worked"
   ]
  },
  {
   "cell_type": "code",
   "execution_count": 123,
   "metadata": {},
   "outputs": [
    {
     "name": "stdout",
     "output_type": "stream",
     "text": [
      "по алгоритму [(0, 2), (2, 0), (1, 1)]\n",
      "по приоритету: [(0, 2), (1, 0), (2, 1)]\n",
      "по времени: [(0, 0), (2, 1), (1, 2)]\n"
     ]
    }
   ],
   "source": [
    "men = [[0, 1, 2], [2, 0, 1], [1, 2, 0]]\n",
    "\n",
    "job = [[2, 1, 0], [1, 0, 2], [0, 2, 1]]\n",
    "\n",
    "# приоритет\n",
    "list = []\n",
    "for i in range(len(men)):\n",
    "    man = men[i]\n",
    "    for j in range(len(man)):\n",
    "        if men[i][j] == accept:\n",
    "                first = (i,j)\n",
    "                list.append(first)\n",
    "\n",
    "# время\n",
    "list2 = []\n",
    "for i in range(len(job)):\n",
    "    for j in range(len(job[i])):\n",
    "        if job[i][j] == accept:\n",
    "                first = (j,i)\n",
    "                list2.append(first)\n",
    "\n",
    "print(\"по алгоритму:\",work(men, job))\n",
    "print (\"по приоритету:\",list)\n",
    "print (\"по времени:\",list2)"
   ]
  },
  {
   "cell_type": "code",
   "execution_count": null,
   "metadata": {},
   "outputs": [],
   "source": []
  }
 ],
 "metadata": {
  "kernelspec": {
   "display_name": "Python 3",
   "language": "python",
   "name": "python3"
  },
  "language_info": {
   "codemirror_mode": {
    "name": "ipython",
    "version": 3
   },
   "file_extension": ".py",
   "mimetype": "text/x-python",
   "name": "python",
   "nbconvert_exporter": "python",
   "pygments_lexer": "ipython3",
   "version": "3.7.0"
  }
 },
 "nbformat": 4,
 "nbformat_minor": 2
}
