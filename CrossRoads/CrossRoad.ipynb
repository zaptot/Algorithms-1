{
 "cells": [
  {
   "cell_type": "code",
   "execution_count": 93,
   "metadata": {},
   "outputs": [],
   "source": [
    "from math import inf\n",
    "\n",
    "def floydWarshall(graph): \n",
    "    for k in range(N): \n",
    "        for i in range(N): \n",
    "            for j in range(N): \n",
    "                graph[i][j] = min(graph[i][j] , graph[i][k]+ graph[k][j] ) \n",
    "    print (\"Following matrix shows the shortest distances\\ between every pair of vertices\" )\n",
    "    for i in graph:\n",
    "        print(*i)\n",
    "#     for i in range(N): \n",
    "#         for j in range(N): \n",
    "#             e[i] = max(e[i], graph[i][j])\n",
    "#             print(e[i])"
   ]
  },
  {
   "cell_type": "code",
   "execution_count": 94,
   "metadata": {},
   "outputs": [],
   "source": [
    "def addVertex(graph):\n",
    "    N=len(graph)\n",
    "    for i in range(N):\n",
    "        graph[i].append(inf)  \n",
    "    N += 1\n",
    "    graph.append([inf]* N)\n",
    "    for i in graph:\n",
    "        print(*i)\n",
    "        \n",
    "def addEdge(graph):\n",
    "    print('Введите вершины ребра: ')\n",
    "    v1=(int(input())-1)\n",
    "    v2=(int(input())-1)\n",
    "    print ('Введите вес ребра:')\n",
    "    weight=(int(input()))\n",
    "    graph[v1][v2]=weight;"
   ]
  },
  {
   "cell_type": "code",
   "execution_count": 95,
   "metadata": {},
   "outputs": [
    {
     "name": "stdout",
     "output_type": "stream",
     "text": [
      "Ведите количество вершин: 4\n",
      "Хотите добавить вершины? y/n \n",
      "\n",
      "Хотите добавить ребра? y/n \n",
      "\n",
      "0 inf inf inf\n",
      "inf 0 inf inf\n",
      "inf inf 0 inf\n",
      "inf inf inf 0\n",
      "Following matrix shows the shortest distances\\ between every pair of vertices\n",
      "0 inf inf inf\n",
      "inf 0 inf inf\n",
      "inf inf 0 inf\n",
      "inf inf inf 0\n"
     ]
    }
   ],
   "source": [
    "# Задание графов(матрица инцидентности)\n",
    "N=-1\n",
    "\n",
    "while N <= 0:\n",
    "    N = int(input('Ведите количество вершин: '))\n",
    "graph =[[inf for _ in range(N)] for _ in range(N)]\n",
    "for i in range(N):\n",
    "    graph[i][i] = 0\n",
    "\n",
    "print(\"Хотите добавить вершины? y/n \")\n",
    "agree=str(input())\n",
    "while(agree==\"y\"):\n",
    "    addVertex(graph)\n",
    "    agree=str(input(\"Ввести еще вершину? y/n \"))\n",
    "\n",
    "print(\"Хотите добавить ребра? y/n \")\n",
    "agree=str(input())\n",
    "while(agree==\"y\"):\n",
    "    addEdge(graph)\n",
    "    agree=str(input(\"Ввести еще ребро? y/n \"))\n",
    "\n",
    "for i in graph:\n",
    "    print(*i)\n",
    "\n",
    "floydWarshall(graph)"
   ]
  }
 ],
 "metadata": {
  "kernelspec": {
   "display_name": "Python 3",
   "language": "python",
   "name": "python3"
  },
  "language_info": {
   "codemirror_mode": {
    "name": "ipython",
    "version": 3
   },
   "file_extension": ".py",
   "mimetype": "text/x-python",
   "name": "python",
   "nbconvert_exporter": "python",
   "pygments_lexer": "ipython3",
   "version": "3.7.0"
  }
 },
 "nbformat": 4,
 "nbformat_minor": 2
}
